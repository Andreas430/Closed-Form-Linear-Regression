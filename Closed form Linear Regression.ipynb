{
 "cells": [
  {
   "cell_type": "markdown",
   "metadata": {},
   "source": [
    "## Linear Regression"
   ]
  },
  {
   "cell_type": "markdown",
   "metadata": {},
   "source": [
    "$$ y = w_0x_0 + w_1x_1 + ... + w_mx_m = \\sum_{j=0}^{m} w^Tx$$\n",
    "\n",
    "### Closed form solution\n",
    "$$ w= (X^TX)^-1X^Ty $$"
   ]
  },
  {
   "cell_type": "markdown",
   "metadata": {},
   "source": [
    "#### Import dependencies"
   ]
  },
  {
   "cell_type": "code",
   "execution_count": 1,
   "metadata": {},
   "outputs": [],
   "source": [
    "import pandas\n",
    "import numpy as np\n",
    "import matplotlib.pyplot as plt"
   ]
  },
  {
   "cell_type": "markdown",
   "metadata": {},
   "source": [
    "#### Random data for toy problem"
   ]
  },
  {
   "cell_type": "code",
   "execution_count": 2,
   "metadata": {},
   "outputs": [],
   "source": [
    "a= np.random.normal(0,1,2000).reshape(2000,1)\n",
    "b = np.ones((2000,2))\n",
    "\n",
    "for i in range(2000):\n",
    "    b[i][0] = a[i]\n",
    "    b[i][1] = a[i]*2  + np.random.normal()\n"
   ]
  },
  {
   "cell_type": "code",
   "execution_count": 3,
   "metadata": {},
   "outputs": [
    {
     "data": {
      "text/html": [
       "<div>\n",
       "<style scoped>\n",
       "    .dataframe tbody tr th:only-of-type {\n",
       "        vertical-align: middle;\n",
       "    }\n",
       "\n",
       "    .dataframe tbody tr th {\n",
       "        vertical-align: top;\n",
       "    }\n",
       "\n",
       "    .dataframe thead th {\n",
       "        text-align: right;\n",
       "    }\n",
       "</style>\n",
       "<table border=\"1\" class=\"dataframe\">\n",
       "  <thead>\n",
       "    <tr style=\"text-align: right;\">\n",
       "      <th></th>\n",
       "      <th>X</th>\n",
       "      <th>Y</th>\n",
       "    </tr>\n",
       "  </thead>\n",
       "  <tbody>\n",
       "    <tr>\n",
       "      <th>0</th>\n",
       "      <td>0.895157</td>\n",
       "      <td>2.187519</td>\n",
       "    </tr>\n",
       "    <tr>\n",
       "      <th>1</th>\n",
       "      <td>-0.521715</td>\n",
       "      <td>0.222327</td>\n",
       "    </tr>\n",
       "    <tr>\n",
       "      <th>2</th>\n",
       "      <td>-0.992129</td>\n",
       "      <td>-2.193487</td>\n",
       "    </tr>\n",
       "    <tr>\n",
       "      <th>3</th>\n",
       "      <td>-0.952527</td>\n",
       "      <td>-2.045466</td>\n",
       "    </tr>\n",
       "    <tr>\n",
       "      <th>4</th>\n",
       "      <td>0.008696</td>\n",
       "      <td>1.254215</td>\n",
       "    </tr>\n",
       "    <tr>\n",
       "      <th>...</th>\n",
       "      <td>...</td>\n",
       "      <td>...</td>\n",
       "    </tr>\n",
       "    <tr>\n",
       "      <th>1995</th>\n",
       "      <td>-0.272892</td>\n",
       "      <td>-0.035797</td>\n",
       "    </tr>\n",
       "    <tr>\n",
       "      <th>1996</th>\n",
       "      <td>0.369455</td>\n",
       "      <td>-0.081398</td>\n",
       "    </tr>\n",
       "    <tr>\n",
       "      <th>1997</th>\n",
       "      <td>0.762603</td>\n",
       "      <td>2.268410</td>\n",
       "    </tr>\n",
       "    <tr>\n",
       "      <th>1998</th>\n",
       "      <td>0.415635</td>\n",
       "      <td>-0.299378</td>\n",
       "    </tr>\n",
       "    <tr>\n",
       "      <th>1999</th>\n",
       "      <td>0.882721</td>\n",
       "      <td>3.323569</td>\n",
       "    </tr>\n",
       "  </tbody>\n",
       "</table>\n",
       "<p>2000 rows × 2 columns</p>\n",
       "</div>"
      ],
      "text/plain": [
       "             X         Y\n",
       "0     0.895157  2.187519\n",
       "1    -0.521715  0.222327\n",
       "2    -0.992129 -2.193487\n",
       "3    -0.952527 -2.045466\n",
       "4     0.008696  1.254215\n",
       "...        ...       ...\n",
       "1995 -0.272892 -0.035797\n",
       "1996  0.369455 -0.081398\n",
       "1997  0.762603  2.268410\n",
       "1998  0.415635 -0.299378\n",
       "1999  0.882721  3.323569\n",
       "\n",
       "[2000 rows x 2 columns]"
      ]
     },
     "execution_count": 3,
     "metadata": {},
     "output_type": "execute_result"
    }
   ],
   "source": [
    "df = pandas.DataFrame(b, columns = ['X','Y'])\n",
    "df"
   ]
  },
  {
   "cell_type": "markdown",
   "metadata": {},
   "source": [
    "#### Normalize X data"
   ]
  },
  {
   "cell_type": "code",
   "execution_count": 4,
   "metadata": {},
   "outputs": [
    {
     "data": {
      "text/html": [
       "<div>\n",
       "<style scoped>\n",
       "    .dataframe tbody tr th:only-of-type {\n",
       "        vertical-align: middle;\n",
       "    }\n",
       "\n",
       "    .dataframe tbody tr th {\n",
       "        vertical-align: top;\n",
       "    }\n",
       "\n",
       "    .dataframe thead th {\n",
       "        text-align: right;\n",
       "    }\n",
       "</style>\n",
       "<table border=\"1\" class=\"dataframe\">\n",
       "  <thead>\n",
       "    <tr style=\"text-align: right;\">\n",
       "      <th></th>\n",
       "      <th>X</th>\n",
       "      <th>Y</th>\n",
       "    </tr>\n",
       "  </thead>\n",
       "  <tbody>\n",
       "    <tr>\n",
       "      <th>0</th>\n",
       "      <td>0.933705</td>\n",
       "      <td>2.187519</td>\n",
       "    </tr>\n",
       "    <tr>\n",
       "      <th>1</th>\n",
       "      <td>-0.521486</td>\n",
       "      <td>0.222327</td>\n",
       "    </tr>\n",
       "    <tr>\n",
       "      <th>2</th>\n",
       "      <td>-1.004623</td>\n",
       "      <td>-2.193487</td>\n",
       "    </tr>\n",
       "    <tr>\n",
       "      <th>3</th>\n",
       "      <td>-0.963950</td>\n",
       "      <td>-2.045466</td>\n",
       "    </tr>\n",
       "    <tr>\n",
       "      <th>4</th>\n",
       "      <td>0.023269</td>\n",
       "      <td>1.254215</td>\n",
       "    </tr>\n",
       "    <tr>\n",
       "      <th>...</th>\n",
       "      <td>...</td>\n",
       "      <td>...</td>\n",
       "    </tr>\n",
       "    <tr>\n",
       "      <th>1995</th>\n",
       "      <td>-0.265934</td>\n",
       "      <td>-0.035797</td>\n",
       "    </tr>\n",
       "    <tr>\n",
       "      <th>1996</th>\n",
       "      <td>0.393785</td>\n",
       "      <td>-0.081398</td>\n",
       "    </tr>\n",
       "    <tr>\n",
       "      <th>1997</th>\n",
       "      <td>0.797566</td>\n",
       "      <td>2.268410</td>\n",
       "    </tr>\n",
       "    <tr>\n",
       "      <th>1998</th>\n",
       "      <td>0.441214</td>\n",
       "      <td>-0.299378</td>\n",
       "    </tr>\n",
       "    <tr>\n",
       "      <th>1999</th>\n",
       "      <td>0.920933</td>\n",
       "      <td>3.323569</td>\n",
       "    </tr>\n",
       "  </tbody>\n",
       "</table>\n",
       "<p>2000 rows × 2 columns</p>\n",
       "</div>"
      ],
      "text/plain": [
       "             X         Y\n",
       "0     0.933705  2.187519\n",
       "1    -0.521486  0.222327\n",
       "2    -1.004623 -2.193487\n",
       "3    -0.963950 -2.045466\n",
       "4     0.023269  1.254215\n",
       "...        ...       ...\n",
       "1995 -0.265934 -0.035797\n",
       "1996  0.393785 -0.081398\n",
       "1997  0.797566  2.268410\n",
       "1998  0.441214 -0.299378\n",
       "1999  0.920933  3.323569\n",
       "\n",
       "[2000 rows x 2 columns]"
      ]
     },
     "execution_count": 4,
     "metadata": {},
     "output_type": "execute_result"
    }
   ],
   "source": [
    "yield_column = df.loc[:, df.columns == 'Y'] \n",
    "del df['Y']\n",
    "normalized_df = (df-df.mean())/df.std()\n",
    "normalized_df = pandas.merge(normalized_df, yield_column, left_index=True, right_index=True)\n",
    "normalized_df"
   ]
  },
  {
   "cell_type": "code",
   "execution_count": 11,
   "metadata": {},
   "outputs": [
    {
     "data": {
      "image/png": "[encoded data removed]",
      "text/plain": [
       "<Figure size 432x288 with 1 Axes>"
      ]
     },
     "metadata": {
      "needs_background": "light"
     },
     "output_type": "display_data"
    }
   ],
   "source": [
    "plt.scatter('X','Y',data =normalized_df, marker = '+', color = 'burlywood')\n",
    "plt.ylabel('Y-data')\n",
    "plt.xlabel('X-data')\n",
    "plt.title('Toy problem data')\n",
    "plt.show()"
   ]
  },
  {
   "cell_type": "code",
   "execution_count": 6,
   "metadata": {},
   "outputs": [],
   "source": [
    "def mse(y_pred,y_test):\n",
    "    '''Returns the mean squared error given two numpy arrays'''\n",
    "    sum_squared_error = np.sum(np.square(y_test - y_pred))\n",
    "    m_s_e = sum_squared_error/len(y_pred)\n",
    "    return m_s_e\n",
    "\n",
    "\n",
    "def linear_regression_fit(x_train,y_train):\n",
    "    '''Returns the closed from w parameter given the x and y data'''\n",
    "    \n",
    "    x_dash_train = np.transpose(x_train)\n",
    "    w = np.linalg.inv(x_dash_train @ x_train) @ x_dash_train @ y_train \n",
    "    return w\n",
    "\n",
    "def linear_regression_predict(x_test,w_star):\n",
    "    '''Returns the predictions given some test data and wstar'''\n",
    "    y_pred=  x_test @ w_star\n",
    "    \n",
    "    return y_pred\n"
   ]
  },
  {
   "cell_type": "code",
   "execution_count": 7,
   "metadata": {},
   "outputs": [],
   "source": [
    "# Split the data into 60%-40% for train/test\n",
    "split = int(len(df)*0.6)\n",
    "data = np.array(normalized_df)\n",
    "np.random.seed(0)\n",
    "shuffle = np.random.permutation(len(data))\n"
   ]
  },
  {
   "cell_type": "code",
   "execution_count": 8,
   "metadata": {},
   "outputs": [],
   "source": [
    "x_linear= np.ones((len(data),1))\n",
    "y_linear= np.ones((len(data),1))\n",
    "\n",
    "for i in range(len(data)):\n",
    "    x_linear[i] = data[i][0]\n",
    "    y_linear[i] = data[i][-1]\n",
    "    \n",
    "x_linear = x_linear[shuffle]\n",
    "y_linear = y_linear[shuffle]\n",
    "x_train_linear= x_linear[:split]\n",
    "y_train_linear = y_linear[:split]\n",
    "\n",
    "x_test_linear = x_linear[split:]\n",
    "y_test_linear = y_linear[split:]"
   ]
  },
  {
   "cell_type": "code",
   "execution_count": 9,
   "metadata": {},
   "outputs": [
    {
     "name": "stdout",
     "output_type": "stream",
     "text": [
      "The mean squared error for the Linear Regression toy problem is 0.9113508868178015\n"
     ]
    }
   ],
   "source": [
    "w_star = linear_regression_fit(x_train_linear,y_train_linear)\n",
    "y_pred_linear = linear_regression_predict(x_test_linear,w_star)\n",
    "print(\"The mean squared error for the Linear Regression toy problem is {}\".format(mse(y_pred_linear,y_test_linear)))"
   ]
  },
  {
   "cell_type": "code",
   "execution_count": 10,
   "metadata": {},
   "outputs": [
    {
     "data": {
      "image/png": "[encoded data removed]",
      "text/plain": [
       "<Figure size 504x504 with 1 Axes>"
      ]
     },
     "metadata": {
      "needs_background": "light"
     },
     "output_type": "display_data"
    }
   ],
   "source": [
    "plt.figure(figsize=(7,7))\n",
    "plt.scatter(x_test_linear,y_test_linear,color = 'orchid',marker = '+')\n",
    "plt.scatter(x_test_linear,y_pred_linear,color = 'cornflowerblue',marker = '+')\n",
    "plt.xlabel('X')\n",
    "plt.ylabel('Y')\n",
    "plt.title('Linear Regression')\n",
    "plt.legend([\"Expected\", \"Predicted\"], loc =\"lower right\",prop={'size': 15} )\n",
    "plt.show()"
   ]
  },
  {
   "cell_type": "code",
   "execution_count": null,
   "metadata": {},
   "outputs": [],
   "source": []
  }
 ],
 "metadata": {
  "kernelspec": {
   "display_name": "Python 3",
   "language": "python",
   "name": "python3"
  },
  "language_info": {
   "codemirror_mode": {
    "name": "ipython",
    "version": 3
   },
   "file_extension": ".py",
   "mimetype": "text/x-python",
   "name": "python",
   "nbconvert_exporter": "python",
   "pygments_lexer": "ipython3",
   "version": "3.8.8"
  }
 },
 "nbformat": 4,
 "nbformat_minor": 4
}
